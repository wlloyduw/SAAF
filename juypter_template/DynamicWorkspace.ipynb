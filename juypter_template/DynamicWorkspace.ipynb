{
 "cells": [
  {
   "cell_type": "code",
   "execution_count": 1,
   "metadata": {},
   "outputs": [],
   "source": [
    "import DynamicSky as ds\n",
    "\n",
    "ds.register_mesh(\"/Users/robertcordingly/Dropbox (Maestral)/Research/SAAF-Master/SAAF/python_template/sky_mesh.json\")"
   ]
  },
  {
   "cell_type": "code",
   "execution_count": null,
   "metadata": {},
   "outputs": [],
   "source": [
    "def hello_world(request, inspector):\n",
    "    return \"Hello World!\"\n",
    "\n",
    "ds.run(hello_world, {}, \"skyf_128_af-south-1\")"
   ]
  },
  {
   "cell_type": "code",
   "execution_count": 4,
   "metadata": {},
   "outputs": [],
   "source": [
    "def cpu_split(request, inspector):\n",
    "    import threading\n",
    "    import time\n",
    "    \n",
    "    payload = request\n",
    "    depth = request['depth']\n",
    "    breadth = request['breadth']\n",
    "    sleep_time = request['sleep_time']\n",
    "    url = request['url']\n",
    "    final_url = request['final_url']\n",
    "    payload['depth'] = depth - 1\n",
    "    results = []\n",
    "    \n",
    "    inspector.addAttribute(\"cpuInfo\", inspector.getAttribute(\"cpuInfo\")[0])\n",
    "    inspector.getAttribute(\"cpuInfo\")['flags'] = \"\"\n",
    "    \n",
    "    if depth == 1:\n",
    "        payload.pop('d', None)\n",
    "        payload.pop('dh', None)\n",
    "        url = final_url\n",
    "    \n",
    "    def make_http_request_to_url(payload):\n",
    "        try:\n",
    "            import requests\n",
    "            response = requests.post(url, json=payload)\n",
    "            results.append(response.json())\n",
    "        except Exception as e:\n",
    "            inspector.addAttribute(\"call_error\", str(e))\n",
    "            pass\n",
    "        \n",
    "    if depth <= 0:\n",
    "        time.sleep(sleep_time)\n",
    "        return None\n",
    "    else:\n",
    "        threadList = []\n",
    "        for i in range(breadth):\n",
    "            thread = threading.Thread(target=make_http_request_to_url, args=(payload,))\n",
    "            threadList.append(thread)\n",
    "            thread.start()\n",
    "        for thread in threadList:\n",
    "            thread.join()\n",
    "        inspector.addAttribute(\"results\", results)\n",
    "        return None\n",
    "    \n",
    "\n",
    "request = {\n",
    "    \"depth\": 3,\n",
    "    \"breadth\": 2,\n",
    "    \"sleep_time\": 0.15,\n",
    "    \"url\": ds.get_endpoint(\"skyf_128_af-south-1\"),\n",
    "    \"final_url\": ds.get_endpoint(\"skyf_128_af-south-1\")\n",
    "}\n",
    "\n",
    "result = ds.run(cpu_split, request, \"skyf_128_af-south-1\", dependencies=[\"requests\"])"
   ]
  }
 ],
 "metadata": {
  "kernelspec": {
   "display_name": ".venv",
   "language": "python",
   "name": "python3"
  },
  "language_info": {
   "codemirror_mode": {
    "name": "ipython",
    "version": 3
   },
   "file_extension": ".py",
   "mimetype": "text/x-python",
   "name": "python",
   "nbconvert_exporter": "python",
   "pygments_lexer": "ipython3",
   "version": "3.12.9"
  }
 },
 "nbformat": 4,
 "nbformat_minor": 2
}
